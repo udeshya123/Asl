{
  "cells": [
    {
      "cell_type": "code",
      "execution_count": 7,
      "metadata": {
        "id": "igMyGnjE9hEp"
      },
      "outputs": [],
      "source": [
        "import csv\n",
        "\n",
        "import numpy as np\n",
        "import tensorflow as tf\n",
        "from sklearn.model_selection import train_test_split\n",
        "\n",
        "RANDOM_SEED = 42"
      ]
    },
    {
      "attachments": {},
      "cell_type": "markdown",
      "metadata": {
        "id": "t2HDvhIu9hEr"
      },
      "source": [
        "# Specify each path"
      ]
    },
    {
      "cell_type": "code",
      "execution_count": 8,
      "metadata": {
        "id": "9NvZP2Zn9hEy"
      },
      "outputs": [],
      "source": [
        "dataset = 'slr/model/keypoint.csv'\n",
        "model_save_path = 'slr/model/slr_model.hdf5'\n",
        "tflite_save_path = 'slr/model/slr_model.tflite'"
      ]
    },
    {
      "attachments": {},
      "cell_type": "markdown",
      "metadata": {
        "id": "s5oMH7x19hEz"
      },
      "source": [
        "# Set number of classes"
      ]
    },
    {
      "cell_type": "code",
      "execution_count": 9,
      "metadata": {
        "id": "du4kodXL9hEz"
      },
      "outputs": [],
      "source": [
        "NUM_CLASSES = 24"
      ]
    },
    {
      "attachments": {},
      "cell_type": "markdown",
      "metadata": {
        "id": "XjnL0uso9hEz"
      },
      "source": [
        "# Dataset reading"
      ]
    },
    {
      "cell_type": "code",
      "execution_count": 10,
      "metadata": {
        "id": "QT5ZqtEz9hE0"
      },
      "outputs": [],
      "source": [
        "X_dataset = np.loadtxt(dataset, delimiter=',', dtype='float32', usecols=list(range(1, (21 * 2) + 1)))"
      ]
    },
    {
      "cell_type": "code",
      "execution_count": 11,
      "metadata": {
        "id": "QmoKFsp49hE0"
      },
      "outputs": [],
      "source": [
        "y_dataset = np.loadtxt(dataset, delimiter=',', dtype='int32', usecols=(0))"
      ]
    },
    {
      "cell_type": "code",
      "execution_count": 12,
      "metadata": {
        "id": "xQU7JTZ_9hE0"
      },
      "outputs": [],
      "source": [
        "X_train, X_test, y_train, y_test = train_test_split(X_dataset, y_dataset, train_size=0.75, random_state=RANDOM_SEED)"
      ]
    },
    {
      "cell_type": "code",
      "execution_count": 13,
      "metadata": {},
      "outputs": [
        {
          "data": {
            "text/plain": [
              "array([ 0,  0,  0, ..., 16, 16, 16])"
            ]
          },
          "execution_count": 13,
          "metadata": {},
          "output_type": "execute_result"
        }
      ],
      "source": [
        "y_dataset"
      ]
    },
    {
      "attachments": {},
      "cell_type": "markdown",
      "metadata": {
        "id": "mxK_lETT9hE0"
      },
      "source": [
        "# Model building"
      ]
    },
    {
      "cell_type": "code",
      "execution_count": 14,
      "metadata": {
        "id": "vHBmUf1t9hE1"
      },
      "outputs": [],
      "source": [
        "model = tf.keras.models.Sequential([\n",
        "    tf.keras.layers.Input((21 * 2, )),\n",
        "    tf.keras.layers.Dropout(0.2),\n",
        "    tf.keras.layers.Dense(20, activation='relu'),\n",
        "    tf.keras.layers.Dropout(0.4),\n",
        "    tf.keras.layers.Dense(10, activation='relu'),\n",
        "    tf.keras.layers.Dense(NUM_CLASSES, activation='softmax')\n",
        "])"
      ]
    },
    {
      "cell_type": "code",
      "execution_count": 15,
      "metadata": {
        "colab": {
          "base_uri": "https://localhost:8080/"
        },
        "id": "ypqky9tc9hE1",
        "outputId": "5db082bb-30e3-4110-bf63-a1ee777ecd46"
      },
      "outputs": [
        {
          "name": "stdout",
          "output_type": "stream",
          "text": [
            "Model: \"sequential\"\n",
            "_________________________________________________________________\n",
            " Layer (type)                Output Shape              Param #   \n",
            "=================================================================\n",
            " dropout (Dropout)           (None, 42)                0         \n",
            "                                                                 \n",
            " dense (Dense)               (None, 20)                860       \n",
            "                                                                 \n",
            " dropout_1 (Dropout)         (None, 20)                0         \n",
            "                                                                 \n",
            " dense_1 (Dense)             (None, 10)                210       \n",
            "                                                                 \n",
            " dense_2 (Dense)             (None, 24)                264       \n",
            "                                                                 \n",
            "=================================================================\n",
            "Total params: 1,334\n",
            "Trainable params: 1,334\n",
            "Non-trainable params: 0\n",
            "_________________________________________________________________\n"
          ]
        }
      ],
      "source": [
        "model.summary()  # tf.keras.utils.plot_model(model, show_shapes=True)"
      ]
    },
    {
      "cell_type": "code",
      "execution_count": 16,
      "metadata": {
        "id": "MbMjOflQ9hE1"
      },
      "outputs": [],
      "source": [
        "# Model checkpoint callback\n",
        "cp_callback = tf.keras.callbacks.ModelCheckpoint(\n",
        "    model_save_path, verbose=1, save_weights_only=False)\n",
        "# Callback for early stopping\n",
        "es_callback = tf.keras.callbacks.EarlyStopping(patience=20, verbose=1)"
      ]
    },
    {
      "cell_type": "code",
      "execution_count": 17,
      "metadata": {
        "id": "c3Dac0M_9hE2"
      },
      "outputs": [],
      "source": [
        "# Model compilation\n",
        "model.compile(\n",
        "    optimizer='adam',\n",
        "    loss='sparse_categorical_crossentropy',\n",
        "    metrics=['accuracy']\n",
        ")"
      ]
    },
    {
      "attachments": {},
      "cell_type": "markdown",
      "metadata": {
        "id": "7XI0j1Iu9hE2"
      },
      "source": [
        "# Model training"
      ]
    },
    {
      "cell_type": "code",
      "execution_count": 18,
      "metadata": {
        "colab": {
          "base_uri": "https://localhost:8080/"
        },
        "id": "WirBl-JE9hE3",
        "outputId": "71b30ca2-8294-4d9d-8aa2-800d90d399de",
        "scrolled": true
      },
      "outputs": [
        {
          "name": "stdout",
          "output_type": "stream",
          "text": [
            "Epoch 1/1000\n",
            "119/141 [========================>.....] - ETA: 0s - loss: 3.0846 - accuracy: 0.0878\n",
            "Epoch 1: saving model to slr/model\\slr_model.hdf5\n",
            "141/141 [==============================] - 2s 5ms/step - loss: 3.0488 - accuracy: 0.1013 - val_loss: 2.7087 - val_accuracy: 0.2067\n",
            "Epoch 2/1000\n",
            "132/141 [===========================>..] - ETA: 0s - loss: 2.5272 - accuracy: 0.2161\n",
            "Epoch 2: saving model to slr/model\\slr_model.hdf5\n",
            "141/141 [==============================] - 1s 6ms/step - loss: 2.5122 - accuracy: 0.2182 - val_loss: 2.0337 - val_accuracy: 0.4228\n",
            "Epoch 3/1000\n",
            "136/141 [===========================>..] - ETA: 0s - loss: 2.1035 - accuracy: 0.2972\n",
            "Epoch 3: saving model to slr/model\\slr_model.hdf5\n",
            "141/141 [==============================] - 1s 5ms/step - loss: 2.0969 - accuracy: 0.2992 - val_loss: 1.6332 - val_accuracy: 0.5947\n",
            "Epoch 4/1000\n",
            "112/141 [======================>.......] - ETA: 0s - loss: 1.8753 - accuracy: 0.3539\n",
            "Epoch 4: saving model to slr/model\\slr_model.hdf5\n",
            "141/141 [==============================] - 0s 3ms/step - loss: 1.8592 - accuracy: 0.3573 - val_loss: 1.3835 - val_accuracy: 0.6900\n",
            "Epoch 5/1000\n",
            "137/141 [============================>.] - ETA: 0s - loss: 1.7255 - accuracy: 0.3897\n",
            "Epoch 5: saving model to slr/model\\slr_model.hdf5\n",
            "141/141 [==============================] - 1s 4ms/step - loss: 1.7235 - accuracy: 0.3907 - val_loss: 1.2357 - val_accuracy: 0.7498\n",
            "Epoch 6/1000\n",
            "126/141 [=========================>....] - ETA: 0s - loss: 1.6391 - accuracy: 0.4194\n",
            "Epoch 6: saving model to slr/model\\slr_model.hdf5\n",
            "141/141 [==============================] - 0s 3ms/step - loss: 1.6349 - accuracy: 0.4193 - val_loss: 1.1187 - val_accuracy: 0.8503\n",
            "Epoch 7/1000\n",
            "127/141 [==========================>...] - ETA: 0s - loss: 1.5761 - accuracy: 0.4358\n",
            "Epoch 7: saving model to slr/model\\slr_model.hdf5\n",
            "141/141 [==============================] - 0s 3ms/step - loss: 1.5728 - accuracy: 0.4375 - val_loss: 1.0484 - val_accuracy: 0.8522\n",
            "Epoch 8/1000\n",
            "124/141 [=========================>....] - ETA: 0s - loss: 1.5019 - accuracy: 0.4524\n",
            "Epoch 8: saving model to slr/model\\slr_model.hdf5\n",
            "141/141 [==============================] - 1s 4ms/step - loss: 1.5073 - accuracy: 0.4499 - val_loss: 0.9964 - val_accuracy: 0.8817\n",
            "Epoch 9/1000\n",
            "131/141 [==========================>...] - ETA: 0s - loss: 1.4667 - accuracy: 0.4680\n",
            "Epoch 9: saving model to slr/model\\slr_model.hdf5\n",
            "141/141 [==============================] - 1s 5ms/step - loss: 1.4650 - accuracy: 0.4671 - val_loss: 0.9325 - val_accuracy: 0.8900\n",
            "Epoch 10/1000\n",
            "114/141 [=======================>......] - ETA: 0s - loss: 1.4444 - accuracy: 0.4746\n",
            "Epoch 10: saving model to slr/model\\slr_model.hdf5\n",
            "141/141 [==============================] - 0s 3ms/step - loss: 1.4360 - accuracy: 0.4782 - val_loss: 0.8930 - val_accuracy: 0.9007\n",
            "Epoch 11/1000\n",
            "110/141 [======================>.......] - ETA: 0s - loss: 1.3959 - accuracy: 0.4920\n",
            "Epoch 11: saving model to slr/model\\slr_model.hdf5\n",
            "141/141 [==============================] - 0s 3ms/step - loss: 1.3901 - accuracy: 0.4941 - val_loss: 0.8656 - val_accuracy: 0.9117\n",
            "Epoch 12/1000\n",
            "121/141 [========================>.....] - ETA: 0s - loss: 1.3648 - accuracy: 0.5098\n",
            "Epoch 12: saving model to slr/model\\slr_model.hdf5\n",
            "141/141 [==============================] - 0s 3ms/step - loss: 1.3640 - accuracy: 0.5105 - val_loss: 0.8295 - val_accuracy: 0.9082\n",
            "Epoch 13/1000\n",
            "133/141 [===========================>..] - ETA: 0s - loss: 1.3558 - accuracy: 0.5131\n",
            "Epoch 13: saving model to slr/model\\slr_model.hdf5\n",
            "141/141 [==============================] - 1s 4ms/step - loss: 1.3548 - accuracy: 0.5138 - val_loss: 0.8022 - val_accuracy: 0.8920\n",
            "Epoch 14/1000\n",
            "114/141 [=======================>......] - ETA: 0s - loss: 1.3264 - accuracy: 0.5234\n",
            "Epoch 14: saving model to slr/model\\slr_model.hdf5\n",
            "141/141 [==============================] - 0s 2ms/step - loss: 1.3219 - accuracy: 0.5243 - val_loss: 0.7705 - val_accuracy: 0.9122\n",
            "Epoch 15/1000\n",
            "128/141 [==========================>...] - ETA: 0s - loss: 1.3051 - accuracy: 0.5335\n",
            "Epoch 15: saving model to slr/model\\slr_model.hdf5\n",
            "141/141 [==============================] - 0s 2ms/step - loss: 1.3008 - accuracy: 0.5333 - val_loss: 0.7496 - val_accuracy: 0.8767\n",
            "Epoch 16/1000\n",
            "127/141 [==========================>...] - ETA: 0s - loss: 1.2786 - accuracy: 0.5415\n",
            "Epoch 16: saving model to slr/model\\slr_model.hdf5\n",
            "141/141 [==============================] - 0s 2ms/step - loss: 1.2743 - accuracy: 0.5431 - val_loss: 0.7235 - val_accuracy: 0.8990\n",
            "Epoch 17/1000\n",
            "107/141 [=====================>........] - ETA: 0s - loss: 1.2695 - accuracy: 0.5456\n",
            "Epoch 17: saving model to slr/model\\slr_model.hdf5\n",
            "141/141 [==============================] - 0s 2ms/step - loss: 1.2672 - accuracy: 0.5479 - val_loss: 0.7105 - val_accuracy: 0.9185\n",
            "Epoch 18/1000\n",
            "116/141 [=======================>......] - ETA: 0s - loss: 1.2501 - accuracy: 0.5542\n",
            "Epoch 18: saving model to slr/model\\slr_model.hdf5\n",
            "141/141 [==============================] - 0s 2ms/step - loss: 1.2470 - accuracy: 0.5542 - val_loss: 0.6795 - val_accuracy: 0.9057\n",
            "Epoch 19/1000\n",
            "115/141 [=======================>......] - ETA: 0s - loss: 1.2509 - accuracy: 0.5569\n",
            "Epoch 19: saving model to slr/model\\slr_model.hdf5\n",
            "141/141 [==============================] - 0s 2ms/step - loss: 1.2412 - accuracy: 0.5586 - val_loss: 0.6682 - val_accuracy: 0.9343\n",
            "Epoch 20/1000\n",
            "113/141 [=======================>......] - ETA: 0s - loss: 1.2362 - accuracy: 0.5657\n",
            "Epoch 20: saving model to slr/model\\slr_model.hdf5\n",
            "141/141 [==============================] - 0s 2ms/step - loss: 1.2306 - accuracy: 0.5661 - val_loss: 0.6725 - val_accuracy: 0.8967\n",
            "Epoch 21/1000\n",
            "131/141 [==========================>...] - ETA: 0s - loss: 1.2231 - accuracy: 0.5659\n",
            "Epoch 21: saving model to slr/model\\slr_model.hdf5\n",
            "141/141 [==============================] - 0s 2ms/step - loss: 1.2198 - accuracy: 0.5680 - val_loss: 0.6614 - val_accuracy: 0.9335\n",
            "Epoch 22/1000\n",
            "100/141 [====================>.........] - ETA: 0s - loss: 1.2145 - accuracy: 0.5717\n",
            "Epoch 22: saving model to slr/model\\slr_model.hdf5\n",
            "141/141 [==============================] - 0s 2ms/step - loss: 1.2097 - accuracy: 0.5737 - val_loss: 0.6344 - val_accuracy: 0.9417\n",
            "Epoch 23/1000\n",
            "108/141 [=====================>........] - ETA: 0s - loss: 1.1941 - accuracy: 0.5786\n",
            "Epoch 23: saving model to slr/model\\slr_model.hdf5\n",
            "141/141 [==============================] - 0s 3ms/step - loss: 1.1863 - accuracy: 0.5817 - val_loss: 0.6212 - val_accuracy: 0.9235\n",
            "Epoch 24/1000\n",
            "113/141 [=======================>......] - ETA: 0s - loss: 1.1748 - accuracy: 0.5771\n",
            "Epoch 24: saving model to slr/model\\slr_model.hdf5\n",
            "141/141 [==============================] - 1s 4ms/step - loss: 1.1747 - accuracy: 0.5802 - val_loss: 0.6268 - val_accuracy: 0.9502\n",
            "Epoch 25/1000\n",
            "109/141 [======================>.......] - ETA: 0s - loss: 1.1774 - accuracy: 0.5897\n",
            "Epoch 25: saving model to slr/model\\slr_model.hdf5\n",
            "141/141 [==============================] - 0s 3ms/step - loss: 1.1715 - accuracy: 0.5903 - val_loss: 0.6082 - val_accuracy: 0.8932\n",
            "Epoch 26/1000\n",
            "138/141 [============================>.] - ETA: 0s - loss: 1.1521 - accuracy: 0.5946\n",
            "Epoch 26: saving model to slr/model\\slr_model.hdf5\n",
            "141/141 [==============================] - 0s 2ms/step - loss: 1.1533 - accuracy: 0.5937 - val_loss: 0.6051 - val_accuracy: 0.9253\n",
            "Epoch 27/1000\n",
            "132/141 [===========================>..] - ETA: 0s - loss: 1.1463 - accuracy: 0.6015\n",
            "Epoch 27: saving model to slr/model\\slr_model.hdf5\n",
            "141/141 [==============================] - 0s 3ms/step - loss: 1.1436 - accuracy: 0.6018 - val_loss: 0.5742 - val_accuracy: 0.9352\n",
            "Epoch 28/1000\n",
            "135/141 [===========================>..] - ETA: 0s - loss: 1.1472 - accuracy: 0.6020\n",
            "Epoch 28: saving model to slr/model\\slr_model.hdf5\n",
            "141/141 [==============================] - 0s 2ms/step - loss: 1.1439 - accuracy: 0.6029 - val_loss: 0.5731 - val_accuracy: 0.9358\n",
            "Epoch 29/1000\n",
            "114/141 [=======================>......] - ETA: 0s - loss: 1.1281 - accuracy: 0.6118\n",
            "Epoch 29: saving model to slr/model\\slr_model.hdf5\n",
            "141/141 [==============================] - 0s 3ms/step - loss: 1.1257 - accuracy: 0.6126 - val_loss: 0.5761 - val_accuracy: 0.9350\n",
            "Epoch 30/1000\n",
            "120/141 [========================>.....] - ETA: 0s - loss: 1.1282 - accuracy: 0.6097\n",
            "Epoch 30: saving model to slr/model\\slr_model.hdf5\n",
            "141/141 [==============================] - 0s 2ms/step - loss: 1.1288 - accuracy: 0.6088 - val_loss: 0.5635 - val_accuracy: 0.9310\n",
            "Epoch 31/1000\n",
            "106/141 [=====================>........] - ETA: 0s - loss: 1.1107 - accuracy: 0.6148\n",
            "Epoch 31: saving model to slr/model\\slr_model.hdf5\n",
            "141/141 [==============================] - 0s 3ms/step - loss: 1.1059 - accuracy: 0.6181 - val_loss: 0.5626 - val_accuracy: 0.9292\n",
            "Epoch 32/1000\n",
            "119/141 [========================>.....] - ETA: 0s - loss: 1.0942 - accuracy: 0.6201\n",
            "Epoch 32: saving model to slr/model\\slr_model.hdf5\n",
            "141/141 [==============================] - 0s 2ms/step - loss: 1.0877 - accuracy: 0.6206 - val_loss: 0.5459 - val_accuracy: 0.9482\n",
            "Epoch 33/1000\n",
            "108/141 [=====================>........] - ETA: 0s - loss: 1.0737 - accuracy: 0.6249\n",
            "Epoch 33: saving model to slr/model\\slr_model.hdf5\n",
            "141/141 [==============================] - 0s 3ms/step - loss: 1.0776 - accuracy: 0.6244 - val_loss: 0.5392 - val_accuracy: 0.9435\n",
            "Epoch 34/1000\n",
            "123/141 [=========================>....] - ETA: 0s - loss: 1.0815 - accuracy: 0.6235\n",
            "Epoch 34: saving model to slr/model\\slr_model.hdf5\n",
            "141/141 [==============================] - 0s 3ms/step - loss: 1.0769 - accuracy: 0.6236 - val_loss: 0.5177 - val_accuracy: 0.9473\n",
            "Epoch 35/1000\n",
            "124/141 [=========================>....] - ETA: 0s - loss: 1.0713 - accuracy: 0.6326\n",
            "Epoch 35: saving model to slr/model\\slr_model.hdf5\n",
            "141/141 [==============================] - 0s 3ms/step - loss: 1.0753 - accuracy: 0.6325 - val_loss: 0.5276 - val_accuracy: 0.9393\n",
            "Epoch 36/1000\n",
            "104/141 [=====================>........] - ETA: 0s - loss: 1.0753 - accuracy: 0.6261\n",
            "Epoch 36: saving model to slr/model\\slr_model.hdf5\n",
            "141/141 [==============================] - 0s 2ms/step - loss: 1.0728 - accuracy: 0.6262 - val_loss: 0.5278 - val_accuracy: 0.9422\n",
            "Epoch 37/1000\n",
            "107/141 [=====================>........] - ETA: 0s - loss: 1.0573 - accuracy: 0.6388\n",
            "Epoch 37: saving model to slr/model\\slr_model.hdf5\n",
            "141/141 [==============================] - 0s 2ms/step - loss: 1.0574 - accuracy: 0.6382 - val_loss: 0.5079 - val_accuracy: 0.9473\n",
            "Epoch 38/1000\n",
            "132/141 [===========================>..] - ETA: 0s - loss: 1.0410 - accuracy: 0.6415\n",
            "Epoch 38: saving model to slr/model\\slr_model.hdf5\n",
            "141/141 [==============================] - 0s 2ms/step - loss: 1.0410 - accuracy: 0.6415 - val_loss: 0.5185 - val_accuracy: 0.9463\n",
            "Epoch 39/1000\n",
            "106/141 [=====================>........] - ETA: 0s - loss: 1.0252 - accuracy: 0.6522\n",
            "Epoch 39: saving model to slr/model\\slr_model.hdf5\n",
            "141/141 [==============================] - 0s 3ms/step - loss: 1.0346 - accuracy: 0.6481 - val_loss: 0.5064 - val_accuracy: 0.9460\n",
            "Epoch 40/1000\n",
            "104/141 [=====================>........] - ETA: 0s - loss: 1.0179 - accuracy: 0.6513\n",
            "Epoch 40: saving model to slr/model\\slr_model.hdf5\n",
            "141/141 [==============================] - 0s 2ms/step - loss: 1.0253 - accuracy: 0.6491 - val_loss: 0.4991 - val_accuracy: 0.9568\n",
            "Epoch 41/1000\n",
            "135/141 [===========================>..] - ETA: 0s - loss: 1.0231 - accuracy: 0.6485\n",
            "Epoch 41: saving model to slr/model\\slr_model.hdf5\n",
            "141/141 [==============================] - 0s 2ms/step - loss: 1.0251 - accuracy: 0.6477 - val_loss: 0.4902 - val_accuracy: 0.9408\n",
            "Epoch 42/1000\n",
            "122/141 [========================>.....] - ETA: 0s - loss: 1.0109 - accuracy: 0.6546\n",
            "Epoch 42: saving model to slr/model\\slr_model.hdf5\n",
            "141/141 [==============================] - 0s 2ms/step - loss: 1.0135 - accuracy: 0.6534 - val_loss: 0.4823 - val_accuracy: 0.9535\n",
            "Epoch 43/1000\n",
            "108/141 [=====================>........] - ETA: 0s - loss: 0.9929 - accuracy: 0.6641\n",
            "Epoch 43: saving model to slr/model\\slr_model.hdf5\n",
            "141/141 [==============================] - 0s 2ms/step - loss: 0.9891 - accuracy: 0.6630 - val_loss: 0.4744 - val_accuracy: 0.9558\n",
            "Epoch 44/1000\n",
            "123/141 [=========================>....] - ETA: 0s - loss: 1.0001 - accuracy: 0.6620\n",
            "Epoch 44: saving model to slr/model\\slr_model.hdf5\n",
            "141/141 [==============================] - 0s 2ms/step - loss: 0.9979 - accuracy: 0.6620 - val_loss: 0.4772 - val_accuracy: 0.9285\n",
            "Epoch 45/1000\n",
            " 98/141 [===================>..........] - ETA: 0s - loss: 1.0030 - accuracy: 0.6636\n",
            "Epoch 45: saving model to slr/model\\slr_model.hdf5\n",
            "141/141 [==============================] - 0s 2ms/step - loss: 1.0014 - accuracy: 0.6651 - val_loss: 0.4665 - val_accuracy: 0.9548\n",
            "Epoch 46/1000\n",
            "110/141 [======================>.......] - ETA: 0s - loss: 1.0035 - accuracy: 0.6576\n",
            "Epoch 46: saving model to slr/model\\slr_model.hdf5\n",
            "141/141 [==============================] - 0s 2ms/step - loss: 0.9979 - accuracy: 0.6591 - val_loss: 0.4651 - val_accuracy: 0.9525\n",
            "Epoch 47/1000\n",
            "108/141 [=====================>........] - ETA: 0s - loss: 0.9725 - accuracy: 0.6693\n",
            "Epoch 47: saving model to slr/model\\slr_model.hdf5\n",
            "141/141 [==============================] - 0s 2ms/step - loss: 0.9676 - accuracy: 0.6716 - val_loss: 0.4452 - val_accuracy: 0.9448\n",
            "Epoch 48/1000\n",
            "138/141 [============================>.] - ETA: 0s - loss: 0.9850 - accuracy: 0.6667\n",
            "Epoch 48: saving model to slr/model\\slr_model.hdf5\n",
            "141/141 [==============================] - 0s 2ms/step - loss: 0.9821 - accuracy: 0.6678 - val_loss: 0.4570 - val_accuracy: 0.9573\n",
            "Epoch 49/1000\n",
            "134/141 [===========================>..] - ETA: 0s - loss: 0.9730 - accuracy: 0.6679\n",
            "Epoch 49: saving model to slr/model\\slr_model.hdf5\n",
            "141/141 [==============================] - 0s 3ms/step - loss: 0.9753 - accuracy: 0.6674 - val_loss: 0.4423 - val_accuracy: 0.9605\n",
            "Epoch 50/1000\n",
            "134/141 [===========================>..] - ETA: 0s - loss: 0.9675 - accuracy: 0.6709\n",
            "Epoch 50: saving model to slr/model\\slr_model.hdf5\n",
            "141/141 [==============================] - 0s 2ms/step - loss: 0.9678 - accuracy: 0.6703 - val_loss: 0.4402 - val_accuracy: 0.9468\n",
            "Epoch 51/1000\n",
            "134/141 [===========================>..] - ETA: 0s - loss: 0.9503 - accuracy: 0.6757\n",
            "Epoch 51: saving model to slr/model\\slr_model.hdf5\n",
            "141/141 [==============================] - 0s 3ms/step - loss: 0.9520 - accuracy: 0.6748 - val_loss: 0.4478 - val_accuracy: 0.9292\n",
            "Epoch 52/1000\n",
            "105/141 [=====================>........] - ETA: 0s - loss: 0.9409 - accuracy: 0.6792\n",
            "Epoch 52: saving model to slr/model\\slr_model.hdf5\n",
            "141/141 [==============================] - 0s 2ms/step - loss: 0.9462 - accuracy: 0.6769 - val_loss: 0.4432 - val_accuracy: 0.9478\n",
            "Epoch 53/1000\n",
            "128/141 [==========================>...] - ETA: 0s - loss: 0.9460 - accuracy: 0.6757\n",
            "Epoch 53: saving model to slr/model\\slr_model.hdf5\n",
            "141/141 [==============================] - 0s 2ms/step - loss: 0.9455 - accuracy: 0.6751 - val_loss: 0.4306 - val_accuracy: 0.9392\n",
            "Epoch 54/1000\n",
            "131/141 [==========================>...] - ETA: 0s - loss: 0.9451 - accuracy: 0.6783\n",
            "Epoch 54: saving model to slr/model\\slr_model.hdf5\n",
            "141/141 [==============================] - 0s 2ms/step - loss: 0.9465 - accuracy: 0.6776 - val_loss: 0.4328 - val_accuracy: 0.9367\n",
            "Epoch 55/1000\n",
            "129/141 [==========================>...] - ETA: 0s - loss: 0.9426 - accuracy: 0.6785\n",
            "Epoch 55: saving model to slr/model\\slr_model.hdf5\n",
            "141/141 [==============================] - 0s 2ms/step - loss: 0.9406 - accuracy: 0.6789 - val_loss: 0.4175 - val_accuracy: 0.9448\n",
            "Epoch 56/1000\n",
            "132/141 [===========================>..] - ETA: 0s - loss: 0.9273 - accuracy: 0.6771\n",
            "Epoch 56: saving model to slr/model\\slr_model.hdf5\n",
            "141/141 [==============================] - 0s 2ms/step - loss: 0.9327 - accuracy: 0.6782 - val_loss: 0.4221 - val_accuracy: 0.9163\n",
            "Epoch 57/1000\n",
            "139/141 [============================>.] - ETA: 0s - loss: 0.9273 - accuracy: 0.6865\n",
            "Epoch 57: saving model to slr/model\\slr_model.hdf5\n",
            "141/141 [==============================] - 0s 2ms/step - loss: 0.9283 - accuracy: 0.6868 - val_loss: 0.4248 - val_accuracy: 0.9387\n",
            "Epoch 58/1000\n",
            "137/141 [============================>.] - ETA: 0s - loss: 0.9307 - accuracy: 0.6814\n",
            "Epoch 58: saving model to slr/model\\slr_model.hdf5\n",
            "141/141 [==============================] - 0s 3ms/step - loss: 0.9315 - accuracy: 0.6808 - val_loss: 0.4070 - val_accuracy: 0.9495\n",
            "Epoch 59/1000\n",
            "135/141 [===========================>..] - ETA: 0s - loss: 0.9202 - accuracy: 0.6865\n",
            "Epoch 59: saving model to slr/model\\slr_model.hdf5\n",
            "141/141 [==============================] - 1s 4ms/step - loss: 0.9198 - accuracy: 0.6869 - val_loss: 0.4232 - val_accuracy: 0.9250\n",
            "Epoch 60/1000\n",
            "122/141 [========================>.....] - ETA: 0s - loss: 0.9303 - accuracy: 0.6849\n",
            "Epoch 60: saving model to slr/model\\slr_model.hdf5\n",
            "141/141 [==============================] - 1s 5ms/step - loss: 0.9257 - accuracy: 0.6858 - val_loss: 0.4094 - val_accuracy: 0.9507\n",
            "Epoch 61/1000\n",
            "111/141 [======================>.......] - ETA: 0s - loss: 0.9207 - accuracy: 0.6828\n",
            "Epoch 61: saving model to slr/model\\slr_model.hdf5\n",
            "141/141 [==============================] - 0s 3ms/step - loss: 0.9152 - accuracy: 0.6861 - val_loss: 0.4084 - val_accuracy: 0.9612\n",
            "Epoch 62/1000\n",
            "104/141 [=====================>........] - ETA: 0s - loss: 0.9156 - accuracy: 0.6850\n",
            "Epoch 62: saving model to slr/model\\slr_model.hdf5\n",
            "141/141 [==============================] - 0s 2ms/step - loss: 0.9082 - accuracy: 0.6893 - val_loss: 0.4003 - val_accuracy: 0.9453\n",
            "Epoch 63/1000\n",
            "134/141 [===========================>..] - ETA: 0s - loss: 0.9225 - accuracy: 0.6865\n",
            "Epoch 63: saving model to slr/model\\slr_model.hdf5\n",
            "141/141 [==============================] - 0s 3ms/step - loss: 0.9242 - accuracy: 0.6856 - val_loss: 0.4200 - val_accuracy: 0.9367\n",
            "Epoch 64/1000\n",
            "124/141 [=========================>....] - ETA: 0s - loss: 0.9041 - accuracy: 0.6970\n",
            "Epoch 64: saving model to slr/model\\slr_model.hdf5\n",
            "141/141 [==============================] - 0s 3ms/step - loss: 0.9019 - accuracy: 0.6973 - val_loss: 0.4019 - val_accuracy: 0.9038\n",
            "Epoch 65/1000\n",
            "126/141 [=========================>....] - ETA: 0s - loss: 0.9113 - accuracy: 0.6918\n",
            "Epoch 65: saving model to slr/model\\slr_model.hdf5\n",
            "141/141 [==============================] - 0s 3ms/step - loss: 0.9100 - accuracy: 0.6924 - val_loss: 0.4024 - val_accuracy: 0.9412\n",
            "Epoch 66/1000\n",
            "101/141 [====================>.........] - ETA: 0s - loss: 0.8960 - accuracy: 0.6907\n",
            "Epoch 66: saving model to slr/model\\slr_model.hdf5\n",
            "141/141 [==============================] - 0s 2ms/step - loss: 0.8903 - accuracy: 0.6928 - val_loss: 0.4018 - val_accuracy: 0.9322\n",
            "Epoch 67/1000\n",
            "131/141 [==========================>...] - ETA: 0s - loss: 0.9087 - accuracy: 0.6922\n",
            "Epoch 67: saving model to slr/model\\slr_model.hdf5\n",
            "141/141 [==============================] - 0s 3ms/step - loss: 0.9088 - accuracy: 0.6930 - val_loss: 0.4015 - val_accuracy: 0.9257\n",
            "Epoch 68/1000\n",
            "139/141 [============================>.] - ETA: 0s - loss: 0.8918 - accuracy: 0.6977\n",
            "Epoch 68: saving model to slr/model\\slr_model.hdf5\n",
            "141/141 [==============================] - 1s 5ms/step - loss: 0.8946 - accuracy: 0.6971 - val_loss: 0.3962 - val_accuracy: 0.9467\n",
            "Epoch 69/1000\n",
            "141/141 [==============================] - ETA: 0s - loss: 0.8962 - accuracy: 0.6903\n",
            "Epoch 69: saving model to slr/model\\slr_model.hdf5\n",
            "141/141 [==============================] - 1s 5ms/step - loss: 0.8962 - accuracy: 0.6903 - val_loss: 0.3979 - val_accuracy: 0.9425\n",
            "Epoch 70/1000\n",
            "137/141 [============================>.] - ETA: 0s - loss: 0.8977 - accuracy: 0.6954\n",
            "Epoch 70: saving model to slr/model\\slr_model.hdf5\n",
            "141/141 [==============================] - 0s 3ms/step - loss: 0.8987 - accuracy: 0.6946 - val_loss: 0.3906 - val_accuracy: 0.9245\n",
            "Epoch 71/1000\n",
            "131/141 [==========================>...] - ETA: 0s - loss: 0.8976 - accuracy: 0.6944\n",
            "Epoch 71: saving model to slr/model\\slr_model.hdf5\n",
            "141/141 [==============================] - 0s 3ms/step - loss: 0.9000 - accuracy: 0.6937 - val_loss: 0.3913 - val_accuracy: 0.9540\n",
            "Epoch 72/1000\n",
            "133/141 [===========================>..] - ETA: 0s - loss: 0.8803 - accuracy: 0.7011\n",
            "Epoch 72: saving model to slr/model\\slr_model.hdf5\n",
            "141/141 [==============================] - 1s 5ms/step - loss: 0.8771 - accuracy: 0.7016 - val_loss: 0.3937 - val_accuracy: 0.9480\n",
            "Epoch 73/1000\n",
            "124/141 [=========================>....] - ETA: 0s - loss: 0.8827 - accuracy: 0.6942\n",
            "Epoch 73: saving model to slr/model\\slr_model.hdf5\n",
            "141/141 [==============================] - 1s 4ms/step - loss: 0.8791 - accuracy: 0.6973 - val_loss: 0.3849 - val_accuracy: 0.9477\n",
            "Epoch 74/1000\n",
            "135/141 [===========================>..] - ETA: 0s - loss: 0.8989 - accuracy: 0.6900\n",
            "Epoch 74: saving model to slr/model\\slr_model.hdf5\n",
            "141/141 [==============================] - 1s 4ms/step - loss: 0.8984 - accuracy: 0.6906 - val_loss: 0.3796 - val_accuracy: 0.9510\n",
            "Epoch 75/1000\n",
            "124/141 [=========================>....] - ETA: 0s - loss: 0.8924 - accuracy: 0.6954\n",
            "Epoch 75: saving model to slr/model\\slr_model.hdf5\n",
            "141/141 [==============================] - 1s 4ms/step - loss: 0.8925 - accuracy: 0.6955 - val_loss: 0.3994 - val_accuracy: 0.9587\n",
            "Epoch 76/1000\n",
            "127/141 [==========================>...] - ETA: 0s - loss: 0.8721 - accuracy: 0.6954\n",
            "Epoch 76: saving model to slr/model\\slr_model.hdf5\n",
            "141/141 [==============================] - 1s 4ms/step - loss: 0.8713 - accuracy: 0.6968 - val_loss: 0.3754 - val_accuracy: 0.9498\n",
            "Epoch 77/1000\n",
            "120/141 [========================>.....] - ETA: 0s - loss: 0.8702 - accuracy: 0.7031\n",
            "Epoch 77: saving model to slr/model\\slr_model.hdf5\n",
            "141/141 [==============================] - 1s 4ms/step - loss: 0.8684 - accuracy: 0.7022 - val_loss: 0.3778 - val_accuracy: 0.9620\n",
            "Epoch 78/1000\n",
            "131/141 [==========================>...] - ETA: 0s - loss: 0.8691 - accuracy: 0.7036\n",
            "Epoch 78: saving model to slr/model\\slr_model.hdf5\n",
            "141/141 [==============================] - 1s 5ms/step - loss: 0.8672 - accuracy: 0.7037 - val_loss: 0.3839 - val_accuracy: 0.9580\n",
            "Epoch 79/1000\n",
            "127/141 [==========================>...] - ETA: 0s - loss: 0.8731 - accuracy: 0.7003\n",
            "Epoch 79: saving model to slr/model\\slr_model.hdf5\n",
            "141/141 [==============================] - 0s 3ms/step - loss: 0.8737 - accuracy: 0.6994 - val_loss: 0.3666 - val_accuracy: 0.9633\n",
            "Epoch 80/1000\n",
            "121/141 [========================>.....] - ETA: 0s - loss: 0.8683 - accuracy: 0.6985\n",
            "Epoch 80: saving model to slr/model\\slr_model.hdf5\n",
            "141/141 [==============================] - 1s 4ms/step - loss: 0.8684 - accuracy: 0.6988 - val_loss: 0.3805 - val_accuracy: 0.9572\n",
            "Epoch 81/1000\n",
            "124/141 [=========================>....] - ETA: 0s - loss: 0.8717 - accuracy: 0.7034\n",
            "Epoch 81: saving model to slr/model\\slr_model.hdf5\n",
            "141/141 [==============================] - 0s 3ms/step - loss: 0.8697 - accuracy: 0.7042 - val_loss: 0.3839 - val_accuracy: 0.9640\n",
            "Epoch 82/1000\n",
            "136/141 [===========================>..] - ETA: 0s - loss: 0.8697 - accuracy: 0.7007\n",
            "Epoch 82: saving model to slr/model\\slr_model.hdf5\n",
            "141/141 [==============================] - 0s 2ms/step - loss: 0.8700 - accuracy: 0.7007 - val_loss: 0.3900 - val_accuracy: 0.9267\n",
            "Epoch 83/1000\n",
            "112/141 [======================>.......] - ETA: 0s - loss: 0.8516 - accuracy: 0.7092\n",
            "Epoch 83: saving model to slr/model\\slr_model.hdf5\n",
            "141/141 [==============================] - 0s 2ms/step - loss: 0.8619 - accuracy: 0.7086 - val_loss: 0.3688 - val_accuracy: 0.9473\n",
            "Epoch 84/1000\n",
            "134/141 [===========================>..] - ETA: 0s - loss: 0.8335 - accuracy: 0.7150\n",
            "Epoch 84: saving model to slr/model\\slr_model.hdf5\n",
            "141/141 [==============================] - 1s 4ms/step - loss: 0.8359 - accuracy: 0.7151 - val_loss: 0.3727 - val_accuracy: 0.9635\n",
            "Epoch 85/1000\n",
            "132/141 [===========================>..] - ETA: 0s - loss: 0.8599 - accuracy: 0.7083\n",
            "Epoch 85: saving model to slr/model\\slr_model.hdf5\n",
            "141/141 [==============================] - 1s 4ms/step - loss: 0.8598 - accuracy: 0.7089 - val_loss: 0.3646 - val_accuracy: 0.9233\n",
            "Epoch 86/1000\n",
            "129/141 [==========================>...] - ETA: 0s - loss: 0.8627 - accuracy: 0.7071\n",
            "Epoch 86: saving model to slr/model\\slr_model.hdf5\n",
            "141/141 [==============================] - 0s 2ms/step - loss: 0.8613 - accuracy: 0.7074 - val_loss: 0.3937 - val_accuracy: 0.9267\n",
            "Epoch 87/1000\n",
            "123/141 [=========================>....] - ETA: 0s - loss: 0.8579 - accuracy: 0.7073\n",
            "Epoch 87: saving model to slr/model\\slr_model.hdf5\n",
            "141/141 [==============================] - 0s 4ms/step - loss: 0.8558 - accuracy: 0.7086 - val_loss: 0.3786 - val_accuracy: 0.9472\n",
            "Epoch 88/1000\n",
            "126/141 [=========================>....] - ETA: 0s - loss: 0.8495 - accuracy: 0.7098\n",
            "Epoch 88: saving model to slr/model\\slr_model.hdf5\n",
            "141/141 [==============================] - 0s 2ms/step - loss: 0.8557 - accuracy: 0.7101 - val_loss: 0.3703 - val_accuracy: 0.9607\n",
            "Epoch 89/1000\n",
            "125/141 [=========================>....] - ETA: 0s - loss: 0.8439 - accuracy: 0.7083\n",
            "Epoch 89: saving model to slr/model\\slr_model.hdf5\n",
            "141/141 [==============================] - 0s 2ms/step - loss: 0.8444 - accuracy: 0.7083 - val_loss: 0.3709 - val_accuracy: 0.9208\n",
            "Epoch 90/1000\n",
            "114/141 [=======================>......] - ETA: 0s - loss: 0.8405 - accuracy: 0.7113\n",
            "Epoch 90: saving model to slr/model\\slr_model.hdf5\n",
            "141/141 [==============================] - 0s 3ms/step - loss: 0.8452 - accuracy: 0.7088 - val_loss: 0.3775 - val_accuracy: 0.9173\n",
            "Epoch 91/1000\n",
            "124/141 [=========================>....] - ETA: 0s - loss: 0.8369 - accuracy: 0.7135\n",
            "Epoch 91: saving model to slr/model\\slr_model.hdf5\n",
            "141/141 [==============================] - 0s 2ms/step - loss: 0.8419 - accuracy: 0.7119 - val_loss: 0.3731 - val_accuracy: 0.9513\n",
            "Epoch 92/1000\n",
            "124/141 [=========================>....] - ETA: 0s - loss: 0.8345 - accuracy: 0.7131\n",
            "Epoch 92: saving model to slr/model\\slr_model.hdf5\n",
            "141/141 [==============================] - 0s 2ms/step - loss: 0.8334 - accuracy: 0.7152 - val_loss: 0.3687 - val_accuracy: 0.9570\n",
            "Epoch 93/1000\n",
            "135/141 [===========================>..] - ETA: 0s - loss: 0.8437 - accuracy: 0.7094\n",
            "Epoch 93: saving model to slr/model\\slr_model.hdf5\n",
            "141/141 [==============================] - 0s 2ms/step - loss: 0.8420 - accuracy: 0.7102 - val_loss: 0.3811 - val_accuracy: 0.8962\n",
            "Epoch 94/1000\n",
            "119/141 [========================>.....] - ETA: 0s - loss: 0.8343 - accuracy: 0.7175\n",
            "Epoch 94: saving model to slr/model\\slr_model.hdf5\n",
            "141/141 [==============================] - 0s 2ms/step - loss: 0.8337 - accuracy: 0.7164 - val_loss: 0.3593 - val_accuracy: 0.9425\n",
            "Epoch 95/1000\n",
            "118/141 [========================>.....] - ETA: 0s - loss: 0.8374 - accuracy: 0.7164\n",
            "Epoch 95: saving model to slr/model\\slr_model.hdf5\n",
            "141/141 [==============================] - 0s 2ms/step - loss: 0.8340 - accuracy: 0.7158 - val_loss: 0.3638 - val_accuracy: 0.9580\n",
            "Epoch 96/1000\n",
            "127/141 [==========================>...] - ETA: 0s - loss: 0.8233 - accuracy: 0.7199\n",
            "Epoch 96: saving model to slr/model\\slr_model.hdf5\n",
            "141/141 [==============================] - 0s 2ms/step - loss: 0.8212 - accuracy: 0.7194 - val_loss: 0.3646 - val_accuracy: 0.9040\n",
            "Epoch 97/1000\n",
            "129/141 [==========================>...] - ETA: 0s - loss: 0.8070 - accuracy: 0.7221\n",
            "Epoch 97: saving model to slr/model\\slr_model.hdf5\n",
            "141/141 [==============================] - 0s 2ms/step - loss: 0.8037 - accuracy: 0.7233 - val_loss: 0.3561 - val_accuracy: 0.9493\n",
            "Epoch 98/1000\n",
            "135/141 [===========================>..] - ETA: 0s - loss: 0.8297 - accuracy: 0.7167\n",
            "Epoch 98: saving model to slr/model\\slr_model.hdf5\n",
            "141/141 [==============================] - 0s 3ms/step - loss: 0.8285 - accuracy: 0.7168 - val_loss: 0.3622 - val_accuracy: 0.9327\n",
            "Epoch 99/1000\n",
            "140/141 [============================>.] - ETA: 0s - loss: 0.8167 - accuracy: 0.7235\n",
            "Epoch 99: saving model to slr/model\\slr_model.hdf5\n",
            "141/141 [==============================] - 0s 3ms/step - loss: 0.8166 - accuracy: 0.7235 - val_loss: 0.3608 - val_accuracy: 0.9378\n",
            "Epoch 100/1000\n",
            "137/141 [============================>.] - ETA: 0s - loss: 0.8175 - accuracy: 0.7223\n",
            "Epoch 100: saving model to slr/model\\slr_model.hdf5\n",
            "141/141 [==============================] - 0s 3ms/step - loss: 0.8189 - accuracy: 0.7224 - val_loss: 0.3622 - val_accuracy: 0.9458\n",
            "Epoch 101/1000\n",
            "117/141 [=======================>......] - ETA: 0s - loss: 0.8158 - accuracy: 0.7196\n",
            "Epoch 101: saving model to slr/model\\slr_model.hdf5\n",
            "141/141 [==============================] - 0s 3ms/step - loss: 0.8155 - accuracy: 0.7198 - val_loss: 0.3775 - val_accuracy: 0.9177\n",
            "Epoch 102/1000\n",
            "128/141 [==========================>...] - ETA: 0s - loss: 0.8109 - accuracy: 0.7243\n",
            "Epoch 102: saving model to slr/model\\slr_model.hdf5\n",
            "141/141 [==============================] - 0s 2ms/step - loss: 0.8086 - accuracy: 0.7236 - val_loss: 0.3511 - val_accuracy: 0.9630\n",
            "Epoch 103/1000\n",
            "122/141 [========================>.....] - ETA: 0s - loss: 0.8144 - accuracy: 0.7228\n",
            "Epoch 103: saving model to slr/model\\slr_model.hdf5\n",
            "141/141 [==============================] - 0s 2ms/step - loss: 0.8143 - accuracy: 0.7216 - val_loss: 0.3720 - val_accuracy: 0.9528\n",
            "Epoch 104/1000\n",
            "114/141 [=======================>......] - ETA: 0s - loss: 0.8056 - accuracy: 0.7202\n",
            "Epoch 104: saving model to slr/model\\slr_model.hdf5\n",
            "141/141 [==============================] - 0s 2ms/step - loss: 0.8099 - accuracy: 0.7217 - val_loss: 0.3666 - val_accuracy: 0.9650\n",
            "Epoch 105/1000\n",
            "131/141 [==========================>...] - ETA: 0s - loss: 0.8161 - accuracy: 0.7218\n",
            "Epoch 105: saving model to slr/model\\slr_model.hdf5\n",
            "141/141 [==============================] - 0s 3ms/step - loss: 0.8116 - accuracy: 0.7235 - val_loss: 0.3682 - val_accuracy: 0.9377\n",
            "Epoch 106/1000\n",
            "123/141 [=========================>....] - ETA: 0s - loss: 0.7938 - accuracy: 0.7295\n",
            "Epoch 106: saving model to slr/model\\slr_model.hdf5\n",
            "141/141 [==============================] - 1s 5ms/step - loss: 0.7921 - accuracy: 0.7282 - val_loss: 0.3716 - val_accuracy: 0.9575\n",
            "Epoch 107/1000\n",
            "108/141 [=====================>........] - ETA: 0s - loss: 0.8000 - accuracy: 0.7276\n",
            "Epoch 107: saving model to slr/model\\slr_model.hdf5\n",
            "141/141 [==============================] - 0s 3ms/step - loss: 0.7970 - accuracy: 0.7280 - val_loss: 0.3607 - val_accuracy: 0.9248\n",
            "Epoch 108/1000\n",
            "106/141 [=====================>........] - ETA: 0s - loss: 0.8065 - accuracy: 0.7229\n",
            "Epoch 108: saving model to slr/model\\slr_model.hdf5\n",
            "141/141 [==============================] - 0s 2ms/step - loss: 0.8116 - accuracy: 0.7218 - val_loss: 0.3751 - val_accuracy: 0.9383\n",
            "Epoch 109/1000\n",
            "117/141 [=======================>......] - ETA: 0s - loss: 0.8055 - accuracy: 0.7254\n",
            "Epoch 109: saving model to slr/model\\slr_model.hdf5\n",
            "141/141 [==============================] - 0s 3ms/step - loss: 0.8038 - accuracy: 0.7266 - val_loss: 0.3698 - val_accuracy: 0.9033\n",
            "Epoch 110/1000\n",
            "135/141 [===========================>..] - ETA: 0s - loss: 0.8054 - accuracy: 0.7238\n",
            "Epoch 110: saving model to slr/model\\slr_model.hdf5\n",
            "141/141 [==============================] - 0s 2ms/step - loss: 0.8064 - accuracy: 0.7233 - val_loss: 0.3546 - val_accuracy: 0.9515\n",
            "Epoch 111/1000\n",
            "110/141 [======================>.......] - ETA: 0s - loss: 0.8117 - accuracy: 0.7234\n",
            "Epoch 111: saving model to slr/model\\slr_model.hdf5\n",
            "141/141 [==============================] - 0s 2ms/step - loss: 0.8095 - accuracy: 0.7238 - val_loss: 0.3625 - val_accuracy: 0.9488\n",
            "Epoch 112/1000\n",
            "123/141 [=========================>....] - ETA: 0s - loss: 0.8213 - accuracy: 0.7250\n",
            "Epoch 112: saving model to slr/model\\slr_model.hdf5\n",
            "141/141 [==============================] - 1s 6ms/step - loss: 0.8159 - accuracy: 0.7261 - val_loss: 0.3728 - val_accuracy: 0.9268\n",
            "Epoch 113/1000\n",
            "134/141 [===========================>..] - ETA: 0s - loss: 0.7848 - accuracy: 0.7341\n",
            "Epoch 113: saving model to slr/model\\slr_model.hdf5\n",
            "141/141 [==============================] - 0s 3ms/step - loss: 0.7876 - accuracy: 0.7327 - val_loss: 0.3549 - val_accuracy: 0.9418\n",
            "Epoch 114/1000\n",
            "102/141 [====================>.........] - ETA: 0s - loss: 0.7876 - accuracy: 0.7312\n",
            "Epoch 114: saving model to slr/model\\slr_model.hdf5\n",
            "141/141 [==============================] - 0s 2ms/step - loss: 0.7940 - accuracy: 0.7291 - val_loss: 0.3584 - val_accuracy: 0.9185\n",
            "Epoch 115/1000\n",
            "126/141 [=========================>....] - ETA: 0s - loss: 0.7897 - accuracy: 0.7302\n",
            "Epoch 115: saving model to slr/model\\slr_model.hdf5\n",
            "141/141 [==============================] - 0s 2ms/step - loss: 0.8014 - accuracy: 0.7292 - val_loss: 0.3642 - val_accuracy: 0.9175\n",
            "Epoch 116/1000\n",
            "138/141 [============================>.] - ETA: 0s - loss: 0.8018 - accuracy: 0.7284\n",
            "Epoch 116: saving model to slr/model\\slr_model.hdf5\n",
            "141/141 [==============================] - 0s 2ms/step - loss: 0.8020 - accuracy: 0.7282 - val_loss: 0.3719 - val_accuracy: 0.9098\n",
            "Epoch 117/1000\n",
            "113/141 [=======================>......] - ETA: 0s - loss: 0.8060 - accuracy: 0.7251\n",
            "Epoch 117: saving model to slr/model\\slr_model.hdf5\n",
            "141/141 [==============================] - 0s 2ms/step - loss: 0.8054 - accuracy: 0.7261 - val_loss: 0.3583 - val_accuracy: 0.9438\n",
            "Epoch 118/1000\n",
            "119/141 [========================>.....] - ETA: 0s - loss: 0.7916 - accuracy: 0.7326\n",
            "Epoch 118: saving model to slr/model\\slr_model.hdf5\n",
            "141/141 [==============================] - 0s 2ms/step - loss: 0.7907 - accuracy: 0.7319 - val_loss: 0.3808 - val_accuracy: 0.9333\n",
            "Epoch 119/1000\n",
            "132/141 [===========================>..] - ETA: 0s - loss: 0.7893 - accuracy: 0.7324\n",
            "Epoch 119: saving model to slr/model\\slr_model.hdf5\n",
            "141/141 [==============================] - 0s 2ms/step - loss: 0.7865 - accuracy: 0.7332 - val_loss: 0.3467 - val_accuracy: 0.9563\n",
            "Epoch 120/1000\n",
            " 90/141 [==================>...........] - ETA: 0s - loss: 0.7965 - accuracy: 0.7348\n",
            "Epoch 120: saving model to slr/model\\slr_model.hdf5\n",
            "141/141 [==============================] - 0s 2ms/step - loss: 0.7947 - accuracy: 0.7325 - val_loss: 0.3853 - val_accuracy: 0.9292\n",
            "Epoch 121/1000\n",
            "140/141 [============================>.] - ETA: 0s - loss: 0.7976 - accuracy: 0.7304\n",
            "Epoch 121: saving model to slr/model\\slr_model.hdf5\n",
            "141/141 [==============================] - 0s 2ms/step - loss: 0.7977 - accuracy: 0.7304 - val_loss: 0.3678 - val_accuracy: 0.9240\n",
            "Epoch 122/1000\n",
            "136/141 [===========================>..] - ETA: 0s - loss: 0.7866 - accuracy: 0.7312\n",
            "Epoch 122: saving model to slr/model\\slr_model.hdf5\n",
            "141/141 [==============================] - 0s 2ms/step - loss: 0.7857 - accuracy: 0.7317 - val_loss: 0.3663 - val_accuracy: 0.9245\n",
            "Epoch 123/1000\n",
            "139/141 [============================>.] - ETA: 0s - loss: 0.7874 - accuracy: 0.7332\n",
            "Epoch 123: saving model to slr/model\\slr_model.hdf5\n",
            "141/141 [==============================] - 0s 3ms/step - loss: 0.7876 - accuracy: 0.7333 - val_loss: 0.3497 - val_accuracy: 0.9417\n",
            "Epoch 124/1000\n",
            "118/141 [========================>.....] - ETA: 0s - loss: 0.7705 - accuracy: 0.7374\n",
            "Epoch 124: saving model to slr/model\\slr_model.hdf5\n",
            "141/141 [==============================] - 0s 2ms/step - loss: 0.7706 - accuracy: 0.7391 - val_loss: 0.3709 - val_accuracy: 0.9198\n",
            "Epoch 125/1000\n",
            "123/141 [=========================>....] - ETA: 0s - loss: 0.7877 - accuracy: 0.7370\n",
            "Epoch 125: saving model to slr/model\\slr_model.hdf5\n",
            "141/141 [==============================] - 0s 2ms/step - loss: 0.7874 - accuracy: 0.7357 - val_loss: 0.3606 - val_accuracy: 0.9282\n",
            "Epoch 126/1000\n",
            "123/141 [=========================>....] - ETA: 0s - loss: 0.7804 - accuracy: 0.7348\n",
            "Epoch 126: saving model to slr/model\\slr_model.hdf5\n",
            "141/141 [==============================] - 0s 2ms/step - loss: 0.7817 - accuracy: 0.7351 - val_loss: 0.3771 - val_accuracy: 0.9060\n",
            "Epoch 127/1000\n",
            "141/141 [==============================] - ETA: 0s - loss: 0.7869 - accuracy: 0.7306\n",
            "Epoch 127: saving model to slr/model\\slr_model.hdf5\n",
            "141/141 [==============================] - 1s 5ms/step - loss: 0.7869 - accuracy: 0.7306 - val_loss: 0.3711 - val_accuracy: 0.9248\n",
            "Epoch 128/1000\n",
            "125/141 [=========================>....] - ETA: 0s - loss: 0.7750 - accuracy: 0.7352\n",
            "Epoch 128: saving model to slr/model\\slr_model.hdf5\n",
            "141/141 [==============================] - 1s 6ms/step - loss: 0.7700 - accuracy: 0.7364 - val_loss: 0.3464 - val_accuracy: 0.9455\n",
            "Epoch 129/1000\n",
            "135/141 [===========================>..] - ETA: 0s - loss: 0.7780 - accuracy: 0.7348\n",
            "Epoch 129: saving model to slr/model\\slr_model.hdf5\n",
            "141/141 [==============================] - 1s 6ms/step - loss: 0.7778 - accuracy: 0.7346 - val_loss: 0.3594 - val_accuracy: 0.9118\n",
            "Epoch 130/1000\n",
            "136/141 [===========================>..] - ETA: 0s - loss: 0.7630 - accuracy: 0.7395\n",
            "Epoch 130: saving model to slr/model\\slr_model.hdf5\n",
            "141/141 [==============================] - 1s 6ms/step - loss: 0.7615 - accuracy: 0.7398 - val_loss: 0.3508 - val_accuracy: 0.9462\n",
            "Epoch 131/1000\n",
            "133/141 [===========================>..] - ETA: 0s - loss: 0.7664 - accuracy: 0.7395\n",
            "Epoch 131: saving model to slr/model\\slr_model.hdf5\n",
            "141/141 [==============================] - 1s 5ms/step - loss: 0.7680 - accuracy: 0.7391 - val_loss: 0.3626 - val_accuracy: 0.9485\n",
            "Epoch 132/1000\n",
            "127/141 [==========================>...] - ETA: 0s - loss: 0.7743 - accuracy: 0.7344\n",
            "Epoch 132: saving model to slr/model\\slr_model.hdf5\n",
            "141/141 [==============================] - 1s 9ms/step - loss: 0.7728 - accuracy: 0.7341 - val_loss: 0.3946 - val_accuracy: 0.9060\n",
            "Epoch 133/1000\n",
            "135/141 [===========================>..] - ETA: 0s - loss: 0.7624 - accuracy: 0.7403\n",
            "Epoch 133: saving model to slr/model\\slr_model.hdf5\n",
            "141/141 [==============================] - 2s 11ms/step - loss: 0.7608 - accuracy: 0.7406 - val_loss: 0.3600 - val_accuracy: 0.8997\n",
            "Epoch 134/1000\n",
            "139/141 [============================>.] - ETA: 0s - loss: 0.7765 - accuracy: 0.7372\n",
            "Epoch 134: saving model to slr/model\\slr_model.hdf5\n",
            "141/141 [==============================] - 2s 14ms/step - loss: 0.7765 - accuracy: 0.7370 - val_loss: 0.3711 - val_accuracy: 0.9235\n",
            "Epoch 135/1000\n",
            "138/141 [============================>.] - ETA: 0s - loss: 0.7732 - accuracy: 0.7357\n",
            "Epoch 135: saving model to slr/model\\slr_model.hdf5\n",
            "141/141 [==============================] - 1s 4ms/step - loss: 0.7725 - accuracy: 0.7363 - val_loss: 0.3497 - val_accuracy: 0.9173\n",
            "Epoch 136/1000\n",
            "131/141 [==========================>...] - ETA: 0s - loss: 0.7579 - accuracy: 0.7432\n",
            "Epoch 136: saving model to slr/model\\slr_model.hdf5\n",
            "141/141 [==============================] - 1s 5ms/step - loss: 0.7592 - accuracy: 0.7443 - val_loss: 0.3739 - val_accuracy: 0.9210\n",
            "Epoch 137/1000\n",
            "138/141 [============================>.] - ETA: 0s - loss: 0.7511 - accuracy: 0.7458\n",
            "Epoch 137: saving model to slr/model\\slr_model.hdf5\n",
            "141/141 [==============================] - 1s 10ms/step - loss: 0.7537 - accuracy: 0.7451 - val_loss: 0.3654 - val_accuracy: 0.9387\n",
            "Epoch 138/1000\n",
            "136/141 [===========================>..] - ETA: 0s - loss: 0.7545 - accuracy: 0.7414\n",
            "Epoch 138: saving model to slr/model\\slr_model.hdf5\n",
            "141/141 [==============================] - 1s 8ms/step - loss: 0.7547 - accuracy: 0.7412 - val_loss: 0.3660 - val_accuracy: 0.9332\n",
            "Epoch 139/1000\n",
            "136/141 [===========================>..] - ETA: 0s - loss: 0.7645 - accuracy: 0.7429\n",
            "Epoch 139: saving model to slr/model\\slr_model.hdf5\n",
            "141/141 [==============================] - 1s 9ms/step - loss: 0.7659 - accuracy: 0.7421 - val_loss: 0.3802 - val_accuracy: 0.8928\n",
            "Epoch 140/1000\n",
            "132/141 [===========================>..] - ETA: 0s - loss: 0.7609 - accuracy: 0.7422\n",
            "Epoch 140: saving model to slr/model\\slr_model.hdf5\n",
            "141/141 [==============================] - 1s 8ms/step - loss: 0.7612 - accuracy: 0.7423 - val_loss: 0.3604 - val_accuracy: 0.9120\n",
            "Epoch 141/1000\n",
            "138/141 [============================>.] - ETA: 0s - loss: 0.7495 - accuracy: 0.7442\n",
            "Epoch 141: saving model to slr/model\\slr_model.hdf5\n",
            "141/141 [==============================] - 1s 8ms/step - loss: 0.7510 - accuracy: 0.7437 - val_loss: 0.3644 - val_accuracy: 0.8905\n",
            "Epoch 142/1000\n",
            "138/141 [============================>.] - ETA: 0s - loss: 0.7638 - accuracy: 0.7374\n",
            "Epoch 142: saving model to slr/model\\slr_model.hdf5\n",
            "141/141 [==============================] - 2s 11ms/step - loss: 0.7678 - accuracy: 0.7374 - val_loss: 0.3392 - val_accuracy: 0.9530\n",
            "Epoch 143/1000\n",
            "136/141 [===========================>..] - ETA: 0s - loss: 0.7537 - accuracy: 0.7386\n",
            "Epoch 143: saving model to slr/model\\slr_model.hdf5\n",
            "141/141 [==============================] - 1s 5ms/step - loss: 0.7570 - accuracy: 0.7384 - val_loss: 0.3568 - val_accuracy: 0.9252\n",
            "Epoch 144/1000\n",
            "140/141 [============================>.] - ETA: 0s - loss: 0.7654 - accuracy: 0.7415\n",
            "Epoch 144: saving model to slr/model\\slr_model.hdf5\n",
            "141/141 [==============================] - 1s 6ms/step - loss: 0.7650 - accuracy: 0.7416 - val_loss: 0.3616 - val_accuracy: 0.9023\n",
            "Epoch 145/1000\n",
            "140/141 [============================>.] - ETA: 0s - loss: 0.7547 - accuracy: 0.7426\n",
            "Epoch 145: saving model to slr/model\\slr_model.hdf5\n",
            "141/141 [==============================] - 1s 6ms/step - loss: 0.7538 - accuracy: 0.7429 - val_loss: 0.3787 - val_accuracy: 0.8975\n",
            "Epoch 146/1000\n",
            "140/141 [============================>.] - ETA: 0s - loss: 0.7629 - accuracy: 0.7435\n",
            "Epoch 146: saving model to slr/model\\slr_model.hdf5\n",
            "141/141 [==============================] - 2s 16ms/step - loss: 0.7628 - accuracy: 0.7437 - val_loss: 0.3693 - val_accuracy: 0.9100\n",
            "Epoch 147/1000\n",
            "141/141 [==============================] - ETA: 0s - loss: 0.7626 - accuracy: 0.7444\n",
            "Epoch 147: saving model to slr/model\\slr_model.hdf5\n",
            "141/141 [==============================] - 1s 7ms/step - loss: 0.7626 - accuracy: 0.7444 - val_loss: 0.3649 - val_accuracy: 0.9395\n",
            "Epoch 148/1000\n",
            "139/141 [============================>.] - ETA: 0s - loss: 0.7552 - accuracy: 0.7440\n",
            "Epoch 148: saving model to slr/model\\slr_model.hdf5\n",
            "141/141 [==============================] - 1s 6ms/step - loss: 0.7562 - accuracy: 0.7439 - val_loss: 0.3846 - val_accuracy: 0.8970\n",
            "Epoch 149/1000\n",
            "138/141 [============================>.] - ETA: 0s - loss: 0.7580 - accuracy: 0.7420\n",
            "Epoch 149: saving model to slr/model\\slr_model.hdf5\n",
            "141/141 [==============================] - 1s 6ms/step - loss: 0.7572 - accuracy: 0.7419 - val_loss: 0.3634 - val_accuracy: 0.9245\n",
            "Epoch 150/1000\n",
            "137/141 [============================>.] - ETA: 0s - loss: 0.7613 - accuracy: 0.7424\n",
            "Epoch 150: saving model to slr/model\\slr_model.hdf5\n",
            "141/141 [==============================] - 1s 7ms/step - loss: 0.7612 - accuracy: 0.7426 - val_loss: 0.3743 - val_accuracy: 0.9102\n",
            "Epoch 151/1000\n",
            "128/141 [==========================>...] - ETA: 0s - loss: 0.7527 - accuracy: 0.7423\n",
            "Epoch 151: saving model to slr/model\\slr_model.hdf5\n",
            "141/141 [==============================] - 1s 9ms/step - loss: 0.7512 - accuracy: 0.7426 - val_loss: 0.3753 - val_accuracy: 0.8778\n",
            "Epoch 152/1000\n",
            "134/141 [===========================>..] - ETA: 0s - loss: 0.7555 - accuracy: 0.7410\n",
            "Epoch 152: saving model to slr/model\\slr_model.hdf5\n",
            "141/141 [==============================] - 1s 5ms/step - loss: 0.7521 - accuracy: 0.7414 - val_loss: 0.3621 - val_accuracy: 0.9383\n",
            "Epoch 153/1000\n",
            "138/141 [============================>.] - ETA: 0s - loss: 0.7632 - accuracy: 0.7404\n",
            "Epoch 153: saving model to slr/model\\slr_model.hdf5\n",
            "141/141 [==============================] - 1s 5ms/step - loss: 0.7639 - accuracy: 0.7401 - val_loss: 0.3607 - val_accuracy: 0.9437\n",
            "Epoch 154/1000\n",
            "133/141 [===========================>..] - ETA: 0s - loss: 0.7304 - accuracy: 0.7509\n",
            "Epoch 154: saving model to slr/model\\slr_model.hdf5\n",
            "141/141 [==============================] - 1s 6ms/step - loss: 0.7335 - accuracy: 0.7493 - val_loss: 0.3712 - val_accuracy: 0.8762\n",
            "Epoch 155/1000\n",
            "134/141 [===========================>..] - ETA: 0s - loss: 0.7342 - accuracy: 0.7473\n",
            "Epoch 155: saving model to slr/model\\slr_model.hdf5\n",
            "141/141 [==============================] - 1s 6ms/step - loss: 0.7373 - accuracy: 0.7482 - val_loss: 0.3542 - val_accuracy: 0.9275\n",
            "Epoch 156/1000\n",
            "131/141 [==========================>...] - ETA: 0s - loss: 0.7462 - accuracy: 0.7469\n",
            "Epoch 156: saving model to slr/model\\slr_model.hdf5\n",
            "141/141 [==============================] - 1s 6ms/step - loss: 0.7478 - accuracy: 0.7452 - val_loss: 0.3620 - val_accuracy: 0.9032\n",
            "Epoch 157/1000\n",
            "129/141 [==========================>...] - ETA: 0s - loss: 0.7483 - accuracy: 0.7465\n",
            "Epoch 157: saving model to slr/model\\slr_model.hdf5\n",
            "141/141 [==============================] - 1s 6ms/step - loss: 0.7430 - accuracy: 0.7474 - val_loss: 0.3683 - val_accuracy: 0.9033\n",
            "Epoch 158/1000\n",
            "140/141 [============================>.] - ETA: 0s - loss: 0.7593 - accuracy: 0.7451\n",
            "Epoch 158: saving model to slr/model\\slr_model.hdf5\n",
            "141/141 [==============================] - 1s 5ms/step - loss: 0.7588 - accuracy: 0.7451 - val_loss: 0.3494 - val_accuracy: 0.9150\n",
            "Epoch 159/1000\n",
            "134/141 [===========================>..] - ETA: 0s - loss: 0.7431 - accuracy: 0.7459\n",
            "Epoch 159: saving model to slr/model\\slr_model.hdf5\n",
            "141/141 [==============================] - 1s 5ms/step - loss: 0.7454 - accuracy: 0.7453 - val_loss: 0.3806 - val_accuracy: 0.9292\n",
            "Epoch 160/1000\n",
            "132/141 [===========================>..] - ETA: 0s - loss: 0.7431 - accuracy: 0.7514\n",
            "Epoch 160: saving model to slr/model\\slr_model.hdf5\n",
            "141/141 [==============================] - 1s 9ms/step - loss: 0.7411 - accuracy: 0.7521 - val_loss: 0.3625 - val_accuracy: 0.8957\n",
            "Epoch 161/1000\n",
            "134/141 [===========================>..] - ETA: 0s - loss: 0.7517 - accuracy: 0.7442\n",
            "Epoch 161: saving model to slr/model\\slr_model.hdf5\n",
            "141/141 [==============================] - 1s 6ms/step - loss: 0.7516 - accuracy: 0.7437 - val_loss: 0.3698 - val_accuracy: 0.9112\n",
            "Epoch 162/1000\n",
            "136/141 [===========================>..] - ETA: 0s - loss: 0.7470 - accuracy: 0.7455\n",
            "Epoch 162: saving model to slr/model\\slr_model.hdf5\n",
            "141/141 [==============================] - 1s 9ms/step - loss: 0.7493 - accuracy: 0.7447 - val_loss: 0.3760 - val_accuracy: 0.9130\n",
            "Epoch 162: early stopping\n"
          ]
        }
      ],
      "source": [
        "history = model.fit(\n",
        "    X_train,\n",
        "    y_train,\n",
        "    epochs=1000,\n",
        "    batch_size=128,\n",
        "    validation_data=(X_test, y_test),\n",
        "    callbacks=[cp_callback, es_callback]\n",
        ")"
      ]
    },
    {
      "cell_type": "code",
      "execution_count": 19,
      "metadata": {
        "colab": {
          "base_uri": "https://localhost:8080/"
        },
        "id": "pxvb2Y299hE3",
        "outputId": "59eb3185-2e37-4b9e-bc9d-ab1b8ac29b7f"
      },
      "outputs": [
        {
          "name": "stdout",
          "output_type": "stream",
          "text": [
            "47/47 [==============================] - 0s 2ms/step - loss: 0.3760 - accuracy: 0.9130\n"
          ]
        }
      ],
      "source": [
        "# Model evaluation\n",
        "val_loss, val_acc = model.evaluate(X_test, y_test, batch_size=128)"
      ]
    },
    {
      "cell_type": "code",
      "execution_count": 20,
      "metadata": {
        "id": "RBkmDeUW9hE4"
      },
      "outputs": [],
      "source": [
        "# Loading the saved model\n",
        "model = tf.keras.models.load_model(model_save_path)"
      ]
    },
    {
      "cell_type": "code",
      "execution_count": 21,
      "metadata": {
        "colab": {
          "base_uri": "https://localhost:8080/"
        },
        "id": "tFz9Tb0I9hE4",
        "outputId": "1c3b3528-54ae-4ee2-ab04-77429211cbef"
      },
      "outputs": [
        {
          "name": "stdout",
          "output_type": "stream",
          "text": [
            "1/1 [==============================] - 0s 417ms/step\n",
            "[2.8331888e-22 4.3082816e-14 7.3403439e-10 0.0000000e+00 0.0000000e+00\n",
            " 3.6276940e-18 6.0659415e-01 3.7457958e-01 3.8306308e-10 0.0000000e+00\n",
            " 6.7086530e-15 9.7138527e-31 7.0349593e-10 1.2022525e-10 1.3356582e-27\n",
            " 2.7955981e-25 0.0000000e+00 0.0000000e+00 1.8826270e-02 8.3746368e-15\n",
            " 0.0000000e+00 0.0000000e+00 8.1293257e-11 0.0000000e+00]\n",
            "6\n"
          ]
        }
      ],
      "source": [
        "# Inference test\n",
        "predict_result = model.predict(np.array([X_test[0]]))\n",
        "print(np.squeeze(predict_result))\n",
        "print(np.argmax(np.squeeze(predict_result)))"
      ]
    },
    {
      "attachments": {},
      "cell_type": "markdown",
      "metadata": {
        "id": "S3U4yNWx9hE4"
      },
      "source": [
        "# Confusion matrix"
      ]
    },
    {
      "cell_type": "code",
      "execution_count": 22,
      "metadata": {},
      "outputs": [
        {
          "name": "stdout",
          "output_type": "stream",
          "text": [
            "188/188 [==============================] - 1s 4ms/step\n"
          ]
        }
      ],
      "source": [
        "Y_pred = model.predict(X_test)\n",
        "y_pred = np.argmax(Y_pred, axis=1)\n"
      ]
    },
    {
      "cell_type": "code",
      "execution_count": 23,
      "metadata": {},
      "outputs": [
        {
          "name": "stdout",
          "output_type": "stream",
          "text": [
            "188/188 [==============================] - 0s 2ms/step\n"
          ]
        },
        {
          "data": {
            "image/png": "[encoded data removed]",
            "text/plain": [
              "<Figure size 1200x900 with 2 Axes>"
            ]
          },
          "metadata": {},
          "output_type": "display_data"
        },
        {
          "name": "stdout",
          "output_type": "stream",
          "text": [
            "Accuracy   : 0.913\n"
          ]
        }
      ],
      "source": [
        "from sklearn.metrics import accuracy_score\n",
        "import pandas as pd\n",
        "import seaborn as sns\n",
        "import matplotlib.pyplot as plt\n",
        "from sklearn.metrics import confusion_matrix\n",
        "\n",
        "labels = [\"A\", \"B\", \"C\", \"D\", \"E\", \"F\", \"G\", \"H\", \"I\", \"K\", \"L\", \"M\", \"N\", \"O\", \"P\", \"Q\", \"R\", \"S\", \"T\", \"U\", \"V\", \"W\", \"X\", \"Y\"]\n",
        "prediction = model.predict(X_test)\n",
        "y_pred = np.argmax(prediction, axis=1)\n",
        "\n",
        "\n",
        "cm = confusion_matrix(y_test, y_pred)\n",
        "\n",
        "#Plot the confusion matrix.\n",
        "plt.subplots(figsize=(12, 9))\n",
        "\n",
        "sns.heatmap(cm,\n",
        "            annot=True,\n",
        "            fmt='g',\n",
        "            xticklabels=labels,\n",
        "            yticklabels=labels)\n",
        "\n",
        "plt.title('Confusion Matrix',fontsize=17)\n",
        "# plt.ylabel('Prediction',fontsize=13)\n",
        "# plt.xlabel('Actual',fontsize=13)\n",
        "plt.show()\n",
        "\n",
        "\n",
        "# Finding precision and recall\n",
        "accuracy = accuracy_score(y_test, y_pred)\n",
        "print(\"Accuracy   :\", accuracy)\n"
      ]
    },
    {
      "cell_type": "code",
      "execution_count": 27,
      "metadata": {},
      "outputs": [
        {
          "data": {
            "image/png": "[encoded data removed]",
            "text/plain": [
              "<Figure size 800x600 with 1 Axes>"
            ]
          },
          "metadata": {},
          "output_type": "display_data"
        }
      ],
      "source": [
        "import matplotlib.pyplot as plt\n",
        "\n",
        "# Assuming `history.history['loss']` and `history.history['accuracy']` exist\n",
        "loss = history.history['loss']\n",
        "accuracy = history.history['accuracy']\n",
        "\n",
        "# Convert accuracy to percentage\n",
        "accuracy_percentage = [acc * 100 for acc in accuracy]\n",
        "\n",
        "# Create a figure for loss and accuracy\n",
        "plt.figure(figsize=(8, 6))\n",
        "\n",
        "# Plot the loss curve\n",
        "plt.plot(loss, label='Training Loss')\n",
        "\n",
        "# Plot the accuracy curve (in percentage)\n",
        "plt.plot(accuracy_percentage, label='Training Accuracy (%)')\n",
        "\n",
        "plt.xlabel('Epochs')\n",
        "plt.ylabel('Value')\n",
        "plt.legend()\n",
        "\n",
        "# Show the plot\n",
        "plt.tight_layout()\n",
        "plt.show()\n"
      ]
    },
    {
      "attachments": {},
      "cell_type": "markdown",
      "metadata": {
        "id": "FNP6aqzc9hE5"
      },
      "source": [
        "# Convert to model for Tensorflow-Lite"
      ]
    },
    {
      "cell_type": "code",
      "execution_count": 25,
      "metadata": {
        "id": "ODjnYyld9hE6"
      },
      "outputs": [],
      "source": [
        "# Save as a model dedicated to inference\n",
        "model.save(model_save_path, include_optimizer=False)"
      ]
    },
    {
      "cell_type": "code",
      "execution_count": 26,
      "metadata": {
        "colab": {
          "base_uri": "https://localhost:8080/"
        },
        "id": "zRfuK8Y59hE6",
        "outputId": "a4ca585c-b5d5-4244-8291-8674063209bb"
      },
      "outputs": [
        {
          "name": "stderr",
          "output_type": "stream",
          "text": [
            "WARNING:absl:Found untraced functions such as _update_step_xla while saving (showing 1 of 1). These functions will not be directly callable after loading.\n"
          ]
        },
        {
          "name": "stdout",
          "output_type": "stream",
          "text": [
            "INFO:tensorflow:Assets written to: C:\\Users\\HP\\AppData\\Local\\Temp\\tmpafhl3bio\\assets\n"
          ]
        },
        {
          "name": "stderr",
          "output_type": "stream",
          "text": [
            "INFO:tensorflow:Assets written to: C:\\Users\\HP\\AppData\\Local\\Temp\\tmpafhl3bio\\assets\n"
          ]
        },
        {
          "data": {
            "text/plain": [
              "7424"
            ]
          },
          "execution_count": 26,
          "metadata": {},
          "output_type": "execute_result"
        }
      ],
      "source": [
        "# Transform model (quantization)\n",
        "\n",
        "converter = tf.lite.TFLiteConverter.from_keras_model(model)\n",
        "converter.optimizations = [tf.lite.Optimize.DEFAULT]\n",
        "tflite_quantized_model = converter.convert()\n",
        "\n",
        "open(tflite_save_path, 'wb').write(tflite_quantized_model)"
      ]
    }
  ],
  "metadata": {
    "accelerator": "GPU",
    "colab": {
      "collapsed_sections": [],
      "name": "keypoint_classification_EN.ipynb",
      "provenance": [],
      "toc_visible": true
    },
    "kernelspec": {
      "display_name": "venv",
      "language": "python",
      "name": "python3"
    },
    "language_info": {
      "codemirror_mode": {
        "name": "ipython",
        "version": 3
      },
      "file_extension": ".py",
      "mimetype": "text/x-python",
      "name": "python",
      "nbconvert_exporter": "python",
      "pygments_lexer": "ipython3",
      "version": "3.10.11"
    }
  },
  "nbformat": 4,
  "nbformat_minor": 0
}
